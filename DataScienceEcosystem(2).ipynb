{
  "metadata": {
    "kernelspec": {
      "name": "python",
      "display_name": "Python (Pyodide)",
      "language": "python"
    },
    "language_info": {
      "codemirror_mode": {
        "name": "python",
        "version": 3
      },
      "file_extension": ".py",
      "mimetype": "text/x-python",
      "name": "python",
      "nbconvert_exporter": "python",
      "pygments_lexer": "ipython3",
      "version": "3.8"
    }
  },
  "nbformat_minor": 4,
  "nbformat": 4,
  "cells": [
    {
      "cell_type": "markdown",
      "source": "<h2> author: </h2></n> Hernán Ruz Sanguino",
      "metadata": {}
    },
    {
      "cell_type": "markdown",
      "source": "<h1> # Data Science Tools and Ecosyste #</h1>",
      "metadata": {}
    },
    {
      "cell_type": "markdown",
      "source": "<h2> introducción </h2>",
      "metadata": {}
    },
    {
      "cell_type": "markdown",
      "source": "<b> Objetives </b>\n<i> lenguajes: </i> \n<ol>\n    <l1>R</l1>\n    <l2>Python,</l2>\n</ol>",
      "metadata": {}
    },
    {
      "cell_type": "markdown",
      "source": "Librerias: dplyr, stringr, ggplot , caret",
      "metadata": {}
    },
    {
      "cell_type": "markdown",
      "source": "Tools: anaconda, jupitelab",
      "metadata": {}
    },
    {
      "cell_type": "markdown",
      "source": "<h3> una suma: 3+3=6 </h3>",
      "metadata": {}
    },
    {
      "cell_type": "code",
      "source": "z=(3*4)+5\nprint (z)",
      "metadata": {
        "trusted": true
      },
      "outputs": [
        {
          "name": "stdout",
          "text": "17\n",
          "output_type": "stream"
        }
      ],
      "execution_count": 4
    },
    {
      "cell_type": "code",
      "source": "min=200\nhoras=(200/60)\nprint(horas)",
      "metadata": {
        "trusted": true
      },
      "outputs": [
        {
          "name": "stdout",
          "text": "3.3333333333333335\n",
          "output_type": "stream"
        }
      ],
      "execution_count": 5
    },
    {
      "cell_type": "code",
      "source": "",
      "metadata": {
        "trusted": true
      },
      "outputs": [],
      "execution_count": null
    },
    {
      "cell_type": "code",
      "source": "",
      "metadata": {
        "trusted": true
      },
      "outputs": [],
      "execution_count": null
    }
  ]
}